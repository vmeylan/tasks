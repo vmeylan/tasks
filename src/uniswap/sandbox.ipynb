{
 "cells": [
  {
   "cell_type": "code",
   "execution_count": 1,
   "metadata": {},
   "outputs": [],
   "source": [
    "import os\n",
    "import sys\n",
    "cwd = os.getcwd()\n",
    "sys.path.append(os.path.join(cwd, '..'))\n",
    "sys.path.append(os.path.join(cwd, '../..'))\n",
    "from src.uniswap.constants import TOKEN_CONTRACT_MAP\n",
    "from uniswap import *\n",
    "from coingecko import get_usd_price\n",
    "from utils import write_to_csv\n"
   ]
  },
  {
   "cell_type": "code",
   "execution_count": null,
   "metadata": {},
   "outputs": [
    {
     "name": "stdout",
     "output_type": "stream",
     "text": [
      "0xC02aaA39b223FE8D0A0e5C4F27eAD9083C756Cc2 0xA0b86991c6218b36c1d19D4a2e9Eb0cE3606eB48\n"
     ]
    }
   ],
   "source": [
    "token0_address = TOKEN_CONTRACT_MAP['WETH']\n",
    "token1_address = TOKEN_CONTRACT_MAP['USDC']\n",
    "print(token0_address, token1_address)\n",
    "# Fetching pool addresses\n",
    "v2_pool_address = get_v2_pool_address(token0_address, token1_address)\n",
    "v3_pool_addresses = get_v3_pool_addresses(token0_address, token1_address)\n",
    "\n",
    "# Fetching pool data (placeholder)\n",
    "pool_data = []\n",
    "for addr in v3_pool_addresses:\n",
    "    pool_data.append(get_v3_pool_details(addr))\n",
    "\n",
    "# pool_data.append(fetch_pool_data(v2_pool_address, 'v2'))     "
   ]
  },
  {
   "cell_type": "code",
   "execution_count": null,
   "metadata": {},
   "outputs": [
    {
     "data": {
      "text/plain": [
       "[{'0x88e6A0c2dDD26FEEb64F039a2c41296FcB3f5640': {'token0_address': '0xA0b86991c6218b36c1d19D4a2e9Eb0cE3606eB48',\n",
       "   'token1_address': '0xC02aaA39b223FE8D0A0e5C4F27eAD9083C756Cc2',\n",
       "   'token0_reserve': 91081642290300,\n",
       "   'token1_reserve': 58952114091526934866553,\n",
       "   'priceToken0inToken1': 4.723037276663171e+37,\n",
       "   'priceToken1inToken0': 2.1172816165162698e-38}},\n",
       " {'0x8ad599c3A0ff1De082011EFDDc58f1908eb6e6D8': {'token0_address': '0xA0b86991c6218b36c1d19D4a2e9Eb0cE3606eB48',\n",
       "   'token1_address': '0xC02aaA39b223FE8D0A0e5C4F27eAD9083C756Cc2',\n",
       "   'token0_reserve': 23550931023655,\n",
       "   'token1_reserve': 21722777470620961197078,\n",
       "   'priceToken0inToken1': 4.7289225250980635e+37,\n",
       "   'priceToken1inToken0': 2.114646612822787e-38}},\n",
       " {'0x7BeA39867e4169DBe237d55C8242a8f2fcDcc387': {'token0_address': '0xA0b86991c6218b36c1d19D4a2e9Eb0cE3606eB48',\n",
       "   'token1_address': '0xC02aaA39b223FE8D0A0e5C4F27eAD9083C756Cc2',\n",
       "   'token0_reserve': 472010405837,\n",
       "   'token1_reserve': 935744477334443486868,\n",
       "   'priceToken0inToken1': 4.725704387850359e+37,\n",
       "   'priceToken1inToken0': 2.1160866569880448e-38}}]"
      ]
     },
     "execution_count": 3,
     "metadata": {},
     "output_type": "execute_result"
    }
   ],
   "source": [
    "pool_data"
   ]
  },
  {
   "cell_type": "code",
   "execution_count": null,
   "metadata": {},
   "outputs": [
    {
     "data": {
      "text/plain": [
       "['0x88e6A0c2dDD26FEEb64F039a2c41296FcB3f5640',\n",
       " '0x8ad599c3A0ff1De082011EFDDc58f1908eb6e6D8',\n",
       " '0x7BeA39867e4169DBe237d55C8242a8f2fcDcc387']"
      ]
     },
     "execution_count": 4,
     "metadata": {},
     "output_type": "execute_result"
    }
   ],
   "source": [
    "v3_pool_addresses"
   ]
  },
  {
   "cell_type": "code",
   "execution_count": null,
   "metadata": {},
   "outputs": [
    {
     "data": {
      "text/plain": [
       "{'0x88e6A0c2dDD26FEEb64F039a2c41296FcB3f5640': {'token0_address': '0xA0b86991c6218b36c1d19D4a2e9Eb0cE3606eB48',\n",
       "  'token1_address': '0xC02aaA39b223FE8D0A0e5C4F27eAD9083C756Cc2',\n",
       "  'token0_reserve': 91094328942455,\n",
       "  'token1_reserve': 58944555038877054183614,\n",
       "  'priceToken0inToken1': 4.722944835458074e+37,\n",
       "  'priceToken1inToken0': 2.1173230576236678e-38}}"
      ]
     },
     "execution_count": 5,
     "metadata": {},
     "output_type": "execute_result"
    }
   ],
   "source": [
    "get_v3_pool_details(v3_pool_addresses[0])"
   ]
  },
  {
   "cell_type": "code",
   "execution_count": null,
   "metadata": {},
   "outputs": [],
   "source": []
  }
 ],
 "metadata": {
  "kernelspec": {
   "display_name": "env",
   "language": "python",
   "name": "python3"
  },
  "language_info": {
   "codemirror_mode": {
    "name": "ipython",
    "version": 3
   },
   "file_extension": ".py",
   "mimetype": "text/x-python",
   "name": "python",
   "nbconvert_exporter": "python",
   "pygments_lexer": "ipython3",
   "version": "3.10.12"
  },
  "orig_nbformat": 4
 },
 "nbformat": 4,
 "nbformat_minor": 2
}
