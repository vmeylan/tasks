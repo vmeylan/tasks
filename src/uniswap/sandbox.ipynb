{
 "cells": [
  {
   "cell_type": "code",
   "execution_count": 1,
   "metadata": {},
   "outputs": [],
   "source": [
    "import os\n",
    "import sys\n",
    "cwd = os.getcwd()\n",
    "sys.path.append(os.path.join(cwd, '..'))\n",
    "sys.path.append(os.path.join(cwd, '../..'))\n",
    "from src.uniswap.constants import TOKEN_CONTRACT_MAP\n",
    "from uniswap import *\n",
    "from utils import write_to_csv\n"
   ]
  },
  {
   "cell_type": "code",
   "execution_count": 2,
   "metadata": {},
   "outputs": [
    {
     "name": "stdout",
     "output_type": "stream",
     "text": [
      "0xC02aaA39b223FE8D0A0e5C4F27eAD9083C756Cc2 0xA0b86991c6218b36c1d19D4a2e9Eb0cE3606eB48\n"
     ]
    }
   ],
   "source": [
    "token0_address = TOKEN_CONTRACT_MAP['WETH']\n",
    "token1_address = TOKEN_CONTRACT_MAP['USDC']\n",
    "print(token0_address, token1_address)\n",
    "# Fetching pool addresses\n",
    "v2_pool_address = get_v2_pool_address(token0_address, token1_address)\n",
    "v3_pool_addresses = get_v3_pool_addresses(token0_address, token1_address)\n",
    "\n",
    "# Fetching pool data (placeholder)\n",
    "pool_data = []\n",
    "for addr in v3_pool_addresses:\n",
    "    pool_data.append(get_v3_pool_details(addr))\n",
    "\n",
    "# pool_data.append(fetch_pool_data(v2_pool_address, 'v2'))     "
   ]
  },
  {
   "cell_type": "code",
   "execution_count": 3,
   "metadata": {},
   "outputs": [
    {
     "data": {
      "text/plain": [
       "[{'Uniswap version': 'v3',\n",
       "  'Pool address': '0x88e6A0c2dDD26FEEb64F039a2c41296FcB3f5640',\n",
       "  'Contract address for token0': '0xA0b86991c6218b36c1d19D4a2e9Eb0cE3606eB48',\n",
       "  'Contract address for token1': '0xC02aaA39b223FE8D0A0e5C4F27eAD9083C756Cc2',\n",
       "  'Fee tier (in bps)': 500,\n",
       "  'Amount of token0 in the pool (normalized by decimals)': 92039599.409632,\n",
       "  'Amount of token1 in the pool (normalized by decimals)': 58391.1101240727,\n",
       "  'Total value locked in the pool as token0 denominated in USD': 92029659.13289575,\n",
       "  'Total value locked in the pool as token1 denominated in USD': 98105239.76385951,\n",
       "  'Pool level price of token0 quoted by token1': 4.715999768151006e+37,\n",
       "  'Pool level price of token1 quoted by token0': 2.1204411559843402e-38,\n",
       "  'Price of token0 in USD from external API': 0.999892,\n",
       "  'Price of token1 in USD from external API': 1680.14},\n",
       " {'Uniswap version': 'v3',\n",
       "  'Pool address': '0x8ad599c3A0ff1De082011EFDDc58f1908eb6e6D8',\n",
       "  'Contract address for token0': '0xA0b86991c6218b36c1d19D4a2e9Eb0cE3606eB48',\n",
       "  'Contract address for token1': '0xC02aaA39b223FE8D0A0e5C4F27eAD9083C756Cc2',\n",
       "  'Fee tier (in bps)': 3000,\n",
       "  'Amount of token0 in the pool (normalized by decimals)': 23596387.741114,\n",
       "  'Amount of token1 in the pool (normalized by decimals)': 21695.73408912061,\n",
       "  'Total value locked in the pool as token0 denominated in USD': 23593839.33123796,\n",
       "  'Total value locked in the pool as token1 denominated in USD': 36451870.672495104,\n",
       "  'Pool level price of token0 quoted by token1': 4.726417585744908e+37,\n",
       "  'Pool level price of token1 quoted by token0': 2.1157673478027964e-38,\n",
       "  'Price of token0 in USD from external API': 0.999892,\n",
       "  'Price of token1 in USD from external API': 1680.14},\n",
       " {'Uniswap version': 'v3',\n",
       "  'Pool address': '0x7BeA39867e4169DBe237d55C8242a8f2fcDcc387',\n",
       "  'Contract address for token0': '0xA0b86991c6218b36c1d19D4a2e9Eb0cE3606eB48',\n",
       "  'Contract address for token1': '0xC02aaA39b223FE8D0A0e5C4F27eAD9083C756Cc2',\n",
       "  'Fee tier (in bps)': 10000,\n",
       "  'Amount of token0 in the pool (normalized by decimals)': 472010.405837,\n",
       "  'Amount of token1 in the pool (normalized by decimals)': 935.7444773344434,\n",
       "  'Total value locked in the pool as token0 denominated in USD': 471959.4287131696,\n",
       "  'Total value locked in the pool as token1 denominated in USD': 1572181.726148692,\n",
       "  'Pool level price of token0 quoted by token1': 4.725704387850359e+37,\n",
       "  'Pool level price of token1 quoted by token0': 2.1160866569880448e-38,\n",
       "  'Price of token0 in USD from external API': 0.999892,\n",
       "  'Price of token1 in USD from external API': 1680.14}]"
      ]
     },
     "execution_count": 3,
     "metadata": {},
     "output_type": "execute_result"
    }
   ],
   "source": [
    "pool_data"
   ]
  },
  {
   "cell_type": "code",
   "execution_count": 4,
   "metadata": {},
   "outputs": [
    {
     "data": {
      "text/plain": [
       "['0x88e6A0c2dDD26FEEb64F039a2c41296FcB3f5640',\n",
       " '0x8ad599c3A0ff1De082011EFDDc58f1908eb6e6D8',\n",
       " '0x7BeA39867e4169DBe237d55C8242a8f2fcDcc387']"
      ]
     },
     "execution_count": 4,
     "metadata": {},
     "output_type": "execute_result"
    }
   ],
   "source": [
    "v3_pool_addresses"
   ]
  },
  {
   "cell_type": "code",
   "execution_count": 5,
   "metadata": {},
   "outputs": [
    {
     "data": {
      "text/plain": [
       "{'Uniswap version': 'v3',\n",
       " 'Pool address': '0x88e6A0c2dDD26FEEb64F039a2c41296FcB3f5640',\n",
       " 'Contract address for token0': '0xA0b86991c6218b36c1d19D4a2e9Eb0cE3606eB48',\n",
       " 'Contract address for token1': '0xC02aaA39b223FE8D0A0e5C4F27eAD9083C756Cc2',\n",
       " 'Fee tier (in bps)': 500,\n",
       " 'Amount of token0 in the pool (normalized by decimals)': 92039599.409632,\n",
       " 'Amount of token1 in the pool (normalized by decimals)': 58391.1101240727,\n",
       " 'Total value locked in the pool as token0 denominated in USD': 92131639.00904162,\n",
       " 'Total value locked in the pool as token1 denominated in USD': 98135603.14112402,\n",
       " 'Pool level price of token0 quoted by token1': 4.715999768151006e+37,\n",
       " 'Pool level price of token1 quoted by token0': 2.1204411559843402e-38,\n",
       " 'Price of token0 in USD from external API': 1.001,\n",
       " 'Price of token1 in USD from external API': 1680.66}"
      ]
     },
     "execution_count": 5,
     "metadata": {},
     "output_type": "execute_result"
    }
   ],
   "source": [
    "get_v3_pool_details(v3_pool_addresses[0])"
   ]
  },
  {
   "cell_type": "code",
   "execution_count": null,
   "metadata": {},
   "outputs": [],
   "source": []
  }
 ],
 "metadata": {
  "kernelspec": {
   "display_name": "env",
   "language": "python",
   "name": "python3"
  },
  "language_info": {
   "codemirror_mode": {
    "name": "ipython",
    "version": 3
   },
   "file_extension": ".py",
   "mimetype": "text/x-python",
   "name": "python",
   "nbconvert_exporter": "python",
   "pygments_lexer": "ipython3",
   "version": "3.10.12"
  },
  "orig_nbformat": 4
 },
 "nbformat": 4,
 "nbformat_minor": 2
}
